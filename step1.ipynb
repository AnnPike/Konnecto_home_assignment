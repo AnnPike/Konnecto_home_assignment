{
 "cells": [
  {
   "cell_type": "code",
   "execution_count": 1,
   "id": "organic-course",
   "metadata": {},
   "outputs": [],
   "source": [
    "import pandas as pd\n",
    "import numpy as np\n",
    "import matplotlib.pyplot as plt\n",
    "import re\n",
    "import itertools\n",
    "import pickle"
   ]
  },
  {
   "cell_type": "code",
   "execution_count": 2,
   "id": "boring-application",
   "metadata": {},
   "outputs": [
    {
     "data": {
      "text/html": [
       "<div>\n",
       "<style scoped>\n",
       "    .dataframe tbody tr th:only-of-type {\n",
       "        vertical-align: middle;\n",
       "    }\n",
       "\n",
       "    .dataframe tbody tr th {\n",
       "        vertical-align: top;\n",
       "    }\n",
       "\n",
       "    .dataframe thead th {\n",
       "        text-align: right;\n",
       "    }\n",
       "</style>\n",
       "<table border=\"1\" class=\"dataframe\">\n",
       "  <thead>\n",
       "    <tr style=\"text-align: right;\">\n",
       "      <th></th>\n",
       "      <th>created_time</th>\n",
       "      <th>title</th>\n",
       "      <th>url</th>\n",
       "    </tr>\n",
       "    <tr>\n",
       "      <th>id</th>\n",
       "      <th></th>\n",
       "      <th></th>\n",
       "      <th></th>\n",
       "    </tr>\n",
       "  </thead>\n",
       "  <tbody>\n",
       "    <tr>\n",
       "      <th>354189</th>\n",
       "      <td>Sun Sep 20 2020 06:28:55 GMT+0000 (Coordinated...</td>\n",
       "      <td>Mein Standort nach lorsch kulturerbe - Google ...</td>\n",
       "      <td>https://www.google.com/maps/dir/49.5267539;8.5...</td>\n",
       "    </tr>\n",
       "    <tr>\n",
       "      <th>20596</th>\n",
       "      <td>Fri Jul 28 2017 08:56:17 GMT+0000 (Coordinated...</td>\n",
       "      <td>(60 ungelesen) – anonymizedName – Yahoo Mail</td>\n",
       "      <td>https://mg.mail.yahoo.com/neo/launch?.rand=94n...</td>\n",
       "    </tr>\n",
       "    <tr>\n",
       "      <th>513182</th>\n",
       "      <td>Thu Jul 25 2019 10:33:08 GMT+0000 (Coordinated...</td>\n",
       "      <td>Song of Healing 10 Hours - YouTube</td>\n",
       "      <td>https://www.youtube.com/watch?v=WXnWfx6bIVE&amp;t=...</td>\n",
       "    </tr>\n",
       "    <tr>\n",
       "      <th>951408</th>\n",
       "      <td>Thu Jun 25 2020 10:02:49 GMT+0000 (Coordinated...</td>\n",
       "      <td>OpinionHUB</td>\n",
       "      <td>https://s.cint.com/Survey/Complete/0b7c19f0-6e...</td>\n",
       "    </tr>\n",
       "    <tr>\n",
       "      <th>632599</th>\n",
       "      <td>Fri Jul 17 2020 05:18:56 GMT+0000 (Coordinated...</td>\n",
       "      <td>Please Wait</td>\n",
       "      <td>https://qps.cint.com/survey/a369700d-bb9a-c1dc...</td>\n",
       "    </tr>\n",
       "  </tbody>\n",
       "</table>\n",
       "</div>"
      ],
      "text/plain": [
       "                                             created_time  \\\n",
       "id                                                          \n",
       "354189  Sun Sep 20 2020 06:28:55 GMT+0000 (Coordinated...   \n",
       "20596   Fri Jul 28 2017 08:56:17 GMT+0000 (Coordinated...   \n",
       "513182  Thu Jul 25 2019 10:33:08 GMT+0000 (Coordinated...   \n",
       "951408  Thu Jun 25 2020 10:02:49 GMT+0000 (Coordinated...   \n",
       "632599  Fri Jul 17 2020 05:18:56 GMT+0000 (Coordinated...   \n",
       "\n",
       "                                                    title  \\\n",
       "id                                                          \n",
       "354189  Mein Standort nach lorsch kulturerbe - Google ...   \n",
       "20596        (60 ungelesen) – anonymizedName – Yahoo Mail   \n",
       "513182                 Song of Healing 10 Hours - YouTube   \n",
       "951408                                         OpinionHUB   \n",
       "632599                                        Please Wait   \n",
       "\n",
       "                                                      url  \n",
       "id                                                         \n",
       "354189  https://www.google.com/maps/dir/49.5267539;8.5...  \n",
       "20596   https://mg.mail.yahoo.com/neo/launch?.rand=94n...  \n",
       "513182  https://www.youtube.com/watch?v=WXnWfx6bIVE&t=...  \n",
       "951408  https://s.cint.com/Survey/Complete/0b7c19f0-6e...  \n",
       "632599  https://qps.cint.com/survey/a369700d-bb9a-c1dc...  "
      ]
     },
     "execution_count": 2,
     "metadata": {},
     "output_type": "execute_result"
    }
   ],
   "source": [
    "df = pd.read_csv('test_data.csv', index_col=0).set_index('id')\n",
    "df.head()"
   ]
  },
  {
   "cell_type": "markdown",
   "id": "progressive-teaching",
   "metadata": {},
   "source": [
    "# time feautures selection"
   ]
  },
  {
   "cell_type": "code",
   "execution_count": 3,
   "id": "nuclear-modeling",
   "metadata": {},
   "outputs": [
    {
     "data": {
      "text/plain": [
       "True"
      ]
     },
     "execution_count": 3,
     "metadata": {},
     "output_type": "execute_result"
    }
   ],
   "source": [
    "df['created_time'].str.contains('GMT+0000', regex=False).all()"
   ]
  },
  {
   "cell_type": "code",
   "execution_count": 4,
   "id": "peaceful-airport",
   "metadata": {},
   "outputs": [],
   "source": [
    "month_dict = {'Jan': 1,'Feb': 2,'Mar': 3,'Apr': 4,'May': 5,'Jun': 6,'Jul': 7,'Aug': 8,'Sep': 9, 'Oct': 10,'Nov': 11,'Dec': 12}"
   ]
  },
  {
   "cell_type": "code",
   "execution_count": 5,
   "id": "raising-remains",
   "metadata": {},
   "outputs": [
    {
     "data": {
      "text/plain": [
       "id\n",
       "354189    Sep\n",
       "20596     Jul\n",
       "513182    Jul\n",
       "951408    Jun\n",
       "632599    Jul\n",
       "Name: month, dtype: object"
      ]
     },
     "execution_count": 5,
     "metadata": {},
     "output_type": "execute_result"
    }
   ],
   "source": [
    "df['month'] = [i[4:7] for i in df['created_time']]\n",
    "df['month'].head()"
   ]
  },
  {
   "cell_type": "code",
   "execution_count": 6,
   "id": "exposed-experience",
   "metadata": {},
   "outputs": [],
   "source": [
    "df['created_time_datetime'] = df['month'].map(month_dict).astype('str')+' '+[i[7:-38] for i in df['created_time']]\n",
    "df['created_time_datetime'] = pd.to_datetime(df['created_time_datetime'], format='%m %d %Y %H:%M:%S', errors='coerce')"
   ]
  },
  {
   "cell_type": "code",
   "execution_count": 7,
   "id": "restricted-community",
   "metadata": {},
   "outputs": [
    {
     "data": {
      "text/plain": [
       "id\n",
       "670341   NaT\n",
       "Name: created_time_datetime, dtype: datetime64[ns]"
      ]
     },
     "execution_count": 7,
     "metadata": {},
     "output_type": "execute_result"
    }
   ],
   "source": [
    "df['created_time_datetime'][df['created_time_datetime'].isna()]"
   ]
  },
  {
   "cell_type": "code",
   "execution_count": 8,
   "id": "israeli-behalf",
   "metadata": {},
   "outputs": [],
   "source": [
    "df = df[~df['created_time_datetime'].isna()]"
   ]
  },
  {
   "cell_type": "code",
   "execution_count": 9,
   "id": "planned-aside",
   "metadata": {},
   "outputs": [
    {
     "data": {
      "text/plain": [
       "Timestamp('1970-01-01 00:00:00')"
      ]
     },
     "execution_count": 9,
     "metadata": {},
     "output_type": "execute_result"
    }
   ],
   "source": [
    "df['created_time_datetime'].min()"
   ]
  },
  {
   "cell_type": "code",
   "execution_count": 10,
   "id": "lined-liberty",
   "metadata": {},
   "outputs": [
    {
     "data": {
      "text/plain": [
       "Timestamp('2020-10-25 13:27:27')"
      ]
     },
     "execution_count": 10,
     "metadata": {},
     "output_type": "execute_result"
    }
   ],
   "source": [
    "df['created_time_datetime'].max()"
   ]
  },
  {
   "cell_type": "code",
   "execution_count": 11,
   "id": "great-stick",
   "metadata": {},
   "outputs": [
    {
     "data": {
      "text/plain": [
       "Timedelta('18560 days 13:27:27')"
      ]
     },
     "execution_count": 11,
     "metadata": {},
     "output_type": "execute_result"
    }
   ],
   "source": [
    "df['created_time_datetime'].max()-df['created_time_datetime'].min()"
   ]
  },
  {
   "cell_type": "code",
   "execution_count": 12,
   "id": "occupied-slovakia",
   "metadata": {},
   "outputs": [
    {
     "data": {
      "text/plain": [
       "(array([1.000e+00, 0.000e+00, 0.000e+00, 0.000e+00, 0.000e+00, 0.000e+00,\n",
       "        0.000e+00, 0.000e+00, 0.000e+00, 9.998e+03]),\n",
       " array([1970., 1975., 1980., 1985., 1990., 1995., 2000., 2005., 2010.,\n",
       "        2015., 2020.]),\n",
       " <BarContainer object of 10 artists>)"
      ]
     },
     "execution_count": 12,
     "metadata": {},
     "output_type": "execute_result"
    },
    {
     "data": {
      "image/png": "[encoded data removed]",
      "text/plain": [
       "<Figure size 432x288 with 1 Axes>"
      ]
     },
     "metadata": {
      "needs_background": "light"
     },
     "output_type": "display_data"
    }
   ],
   "source": [
    "plt.hist(df['created_time_datetime'].dt.year)"
   ]
  },
  {
   "cell_type": "code",
   "execution_count": 13,
   "id": "assisted-elements",
   "metadata": {},
   "outputs": [
    {
     "data": {
      "text/plain": [
       "id\n",
       "565157   1970-01-01\n",
       "Name: created_time_datetime, dtype: datetime64[ns]"
      ]
     },
     "execution_count": 13,
     "metadata": {},
     "output_type": "execute_result"
    }
   ],
   "source": [
    "df['created_time_datetime'][df['created_time_datetime'].dt.year<2010]"
   ]
  },
  {
   "cell_type": "code",
   "execution_count": 14,
   "id": "noted-distributor",
   "metadata": {},
   "outputs": [],
   "source": [
    "df = df[df['created_time_datetime'].dt.year>=2010]"
   ]
  },
  {
   "cell_type": "code",
   "execution_count": 15,
   "id": "golden-fashion",
   "metadata": {},
   "outputs": [
    {
     "data": {
      "text/plain": [
       "Timestamp('2017-06-04 16:08:57')"
      ]
     },
     "execution_count": 15,
     "metadata": {},
     "output_type": "execute_result"
    }
   ],
   "source": [
    "df['created_time_datetime'].min()"
   ]
  },
  {
   "cell_type": "code",
   "execution_count": 16,
   "id": "simple-zambia",
   "metadata": {},
   "outputs": [
    {
     "data": {
      "text/plain": [
       "(array([  14.,    0.,    0.,   89.,    0.,    0., 1196.,    0.,    0.,\n",
       "        8699.]),\n",
       " array([2017. , 2017.3, 2017.6, 2017.9, 2018.2, 2018.5, 2018.8, 2019.1,\n",
       "        2019.4, 2019.7, 2020. ]),\n",
       " <BarContainer object of 10 artists>)"
      ]
     },
     "execution_count": 16,
     "metadata": {},
     "output_type": "execute_result"
    },
    {
     "data": {
      "image/png": "[encoded data removed]",
      "text/plain": [
       "<Figure size 432x288 with 1 Axes>"
      ]
     },
     "metadata": {
      "needs_background": "light"
     },
     "output_type": "display_data"
    }
   ],
   "source": [
    "plt.hist(df['created_time_datetime'].dt.year)"
   ]
  },
  {
   "cell_type": "code",
   "execution_count": 17,
   "id": "foster-concrete",
   "metadata": {},
   "outputs": [
    {
     "data": {
      "text/plain": [
       "<AxesSubplot:>"
      ]
     },
     "execution_count": 17,
     "metadata": {},
     "output_type": "execute_result"
    },
    {
     "data": {
      "image/png": "[encoded data removed]",
      "text/plain": [
       "<Figure size 432x288 with 1 Axes>"
      ]
     },
     "metadata": {
      "needs_background": "light"
     },
     "output_type": "display_data"
    }
   ],
   "source": [
    "df['created_time_datetime'].dt.month.hist()"
   ]
  },
  {
   "cell_type": "code",
   "execution_count": 18,
   "id": "functional-office",
   "metadata": {},
   "outputs": [
    {
     "data": {
      "text/plain": [
       "<AxesSubplot:>"
      ]
     },
     "execution_count": 18,
     "metadata": {},
     "output_type": "execute_result"
    },
    {
     "data": {
      "image/png": "[encoded data removed]",
      "text/plain": [
       "<Figure size 432x288 with 1 Axes>"
      ]
     },
     "metadata": {
      "needs_background": "light"
     },
     "output_type": "display_data"
    }
   ],
   "source": [
    "df['hour'] = df['created_time_datetime'].dt.hour+df['created_time_datetime'].dt.minute/60\n",
    "df['hour'].hist(bins=24)"
   ]
  },
  {
   "cell_type": "code",
   "execution_count": 19,
   "id": "gross-member",
   "metadata": {},
   "outputs": [
    {
     "data": {
      "image/png": "[encoded data removed]",
      "text/plain": [
       "<Figure size 432x288 with 1 Axes>"
      ]
     },
     "metadata": {
      "needs_background": "light"
     },
     "output_type": "display_data"
    }
   ],
   "source": [
    "df[\"day_of_week\"] = df['created_time_datetime'].dt.dayofweek\n",
    "df['day_of_week'].hist(bins=7)\n",
    "plt.show()"
   ]
  },
  {
   "cell_type": "code",
   "execution_count": 20,
   "id": "relevant-surfing",
   "metadata": {},
   "outputs": [
    {
     "data": {
      "text/html": [
       "<div>\n",
       "<style scoped>\n",
       "    .dataframe tbody tr th:only-of-type {\n",
       "        vertical-align: middle;\n",
       "    }\n",
       "\n",
       "    .dataframe tbody tr th {\n",
       "        vertical-align: top;\n",
       "    }\n",
       "\n",
       "    .dataframe thead th {\n",
       "        text-align: right;\n",
       "    }\n",
       "</style>\n",
       "<table border=\"1\" class=\"dataframe\">\n",
       "  <thead>\n",
       "    <tr style=\"text-align: right;\">\n",
       "      <th></th>\n",
       "      <th>created_time</th>\n",
       "      <th>title</th>\n",
       "      <th>url</th>\n",
       "      <th>month</th>\n",
       "      <th>created_time_datetime</th>\n",
       "      <th>hour</th>\n",
       "      <th>day_of_week</th>\n",
       "    </tr>\n",
       "    <tr>\n",
       "      <th>id</th>\n",
       "      <th></th>\n",
       "      <th></th>\n",
       "      <th></th>\n",
       "      <th></th>\n",
       "      <th></th>\n",
       "      <th></th>\n",
       "      <th></th>\n",
       "    </tr>\n",
       "  </thead>\n",
       "  <tbody>\n",
       "    <tr>\n",
       "      <th>354189</th>\n",
       "      <td>Sun Sep 20 2020 06:28:55 GMT+0000 (Coordinated...</td>\n",
       "      <td>Mein Standort nach lorsch kulturerbe - Google ...</td>\n",
       "      <td>https://www.google.com/maps/dir/49.5267539;8.5...</td>\n",
       "      <td>Sep</td>\n",
       "      <td>2020-09-20 06:28:55</td>\n",
       "      <td>6.466667</td>\n",
       "      <td>6</td>\n",
       "    </tr>\n",
       "    <tr>\n",
       "      <th>20596</th>\n",
       "      <td>Fri Jul 28 2017 08:56:17 GMT+0000 (Coordinated...</td>\n",
       "      <td>(60 ungelesen) – anonymizedName – Yahoo Mail</td>\n",
       "      <td>https://mg.mail.yahoo.com/neo/launch?.rand=94n...</td>\n",
       "      <td>Jul</td>\n",
       "      <td>2017-07-28 08:56:17</td>\n",
       "      <td>8.933333</td>\n",
       "      <td>4</td>\n",
       "    </tr>\n",
       "    <tr>\n",
       "      <th>513182</th>\n",
       "      <td>Thu Jul 25 2019 10:33:08 GMT+0000 (Coordinated...</td>\n",
       "      <td>Song of Healing 10 Hours - YouTube</td>\n",
       "      <td>https://www.youtube.com/watch?v=WXnWfx6bIVE&amp;t=...</td>\n",
       "      <td>Jul</td>\n",
       "      <td>2019-07-25 10:33:08</td>\n",
       "      <td>10.550000</td>\n",
       "      <td>3</td>\n",
       "    </tr>\n",
       "    <tr>\n",
       "      <th>951408</th>\n",
       "      <td>Thu Jun 25 2020 10:02:49 GMT+0000 (Coordinated...</td>\n",
       "      <td>OpinionHUB</td>\n",
       "      <td>https://s.cint.com/Survey/Complete/0b7c19f0-6e...</td>\n",
       "      <td>Jun</td>\n",
       "      <td>2020-06-25 10:02:49</td>\n",
       "      <td>10.033333</td>\n",
       "      <td>3</td>\n",
       "    </tr>\n",
       "    <tr>\n",
       "      <th>632599</th>\n",
       "      <td>Fri Jul 17 2020 05:18:56 GMT+0000 (Coordinated...</td>\n",
       "      <td>Please Wait</td>\n",
       "      <td>https://qps.cint.com/survey/a369700d-bb9a-c1dc...</td>\n",
       "      <td>Jul</td>\n",
       "      <td>2020-07-17 05:18:56</td>\n",
       "      <td>5.300000</td>\n",
       "      <td>4</td>\n",
       "    </tr>\n",
       "  </tbody>\n",
       "</table>\n",
       "</div>"
      ],
      "text/plain": [
       "                                             created_time  \\\n",
       "id                                                          \n",
       "354189  Sun Sep 20 2020 06:28:55 GMT+0000 (Coordinated...   \n",
       "20596   Fri Jul 28 2017 08:56:17 GMT+0000 (Coordinated...   \n",
       "513182  Thu Jul 25 2019 10:33:08 GMT+0000 (Coordinated...   \n",
       "951408  Thu Jun 25 2020 10:02:49 GMT+0000 (Coordinated...   \n",
       "632599  Fri Jul 17 2020 05:18:56 GMT+0000 (Coordinated...   \n",
       "\n",
       "                                                    title  \\\n",
       "id                                                          \n",
       "354189  Mein Standort nach lorsch kulturerbe - Google ...   \n",
       "20596        (60 ungelesen) – anonymizedName – Yahoo Mail   \n",
       "513182                 Song of Healing 10 Hours - YouTube   \n",
       "951408                                         OpinionHUB   \n",
       "632599                                        Please Wait   \n",
       "\n",
       "                                                      url month  \\\n",
       "id                                                                \n",
       "354189  https://www.google.com/maps/dir/49.5267539;8.5...   Sep   \n",
       "20596   https://mg.mail.yahoo.com/neo/launch?.rand=94n...   Jul   \n",
       "513182  https://www.youtube.com/watch?v=WXnWfx6bIVE&t=...   Jul   \n",
       "951408  https://s.cint.com/Survey/Complete/0b7c19f0-6e...   Jun   \n",
       "632599  https://qps.cint.com/survey/a369700d-bb9a-c1dc...   Jul   \n",
       "\n",
       "       created_time_datetime       hour  day_of_week  \n",
       "id                                                    \n",
       "354189   2020-09-20 06:28:55   6.466667            6  \n",
       "20596    2017-07-28 08:56:17   8.933333            4  \n",
       "513182   2019-07-25 10:33:08  10.550000            3  \n",
       "951408   2020-06-25 10:02:49  10.033333            3  \n",
       "632599   2020-07-17 05:18:56   5.300000            4  "
      ]
     },
     "execution_count": 20,
     "metadata": {},
     "output_type": "execute_result"
    }
   ],
   "source": [
    "df.head()"
   ]
  },
  {
   "cell_type": "markdown",
   "id": "prescription-rapid",
   "metadata": {},
   "source": [
    "## from the created_time column i extracted two features: day of week and hour"
   ]
  },
  {
   "cell_type": "code",
   "execution_count": 21,
   "id": "korean-tobago",
   "metadata": {},
   "outputs": [
    {
     "data": {
      "text/html": [
       "<div>\n",
       "<style scoped>\n",
       "    .dataframe tbody tr th:only-of-type {\n",
       "        vertical-align: middle;\n",
       "    }\n",
       "\n",
       "    .dataframe tbody tr th {\n",
       "        vertical-align: top;\n",
       "    }\n",
       "\n",
       "    .dataframe thead th {\n",
       "        text-align: right;\n",
       "    }\n",
       "</style>\n",
       "<table border=\"1\" class=\"dataframe\">\n",
       "  <thead>\n",
       "    <tr style=\"text-align: right;\">\n",
       "      <th></th>\n",
       "      <th>day_of_week</th>\n",
       "      <th>hour</th>\n",
       "    </tr>\n",
       "    <tr>\n",
       "      <th>id</th>\n",
       "      <th></th>\n",
       "      <th></th>\n",
       "    </tr>\n",
       "  </thead>\n",
       "  <tbody>\n",
       "    <tr>\n",
       "      <th>354189</th>\n",
       "      <td>6</td>\n",
       "      <td>6.466667</td>\n",
       "    </tr>\n",
       "    <tr>\n",
       "      <th>20596</th>\n",
       "      <td>4</td>\n",
       "      <td>8.933333</td>\n",
       "    </tr>\n",
       "    <tr>\n",
       "      <th>513182</th>\n",
       "      <td>3</td>\n",
       "      <td>10.550000</td>\n",
       "    </tr>\n",
       "    <tr>\n",
       "      <th>951408</th>\n",
       "      <td>3</td>\n",
       "      <td>10.033333</td>\n",
       "    </tr>\n",
       "    <tr>\n",
       "      <th>632599</th>\n",
       "      <td>4</td>\n",
       "      <td>5.300000</td>\n",
       "    </tr>\n",
       "  </tbody>\n",
       "</table>\n",
       "</div>"
      ],
      "text/plain": [
       "        day_of_week       hour\n",
       "id                            \n",
       "354189            6   6.466667\n",
       "20596             4   8.933333\n",
       "513182            3  10.550000\n",
       "951408            3  10.033333\n",
       "632599            4   5.300000"
      ]
     },
     "execution_count": 21,
     "metadata": {},
     "output_type": "execute_result"
    }
   ],
   "source": [
    "df.drop(columns=['month', 'created_time_datetime', 'created_time'], inplace=True)\n",
    "df[['day_of_week', 'hour']].head()"
   ]
  },
  {
   "cell_type": "markdown",
   "id": "indie-dispatch",
   "metadata": {},
   "source": [
    "# text features selection:\n",
    "## 1.clean 'title' and 'url' to get relevant information\n",
    "## 2. create an embedding model to transform text into numerical values\""
   ]
  },
  {
   "cell_type": "code",
   "execution_count": 22,
   "id": "opening-lender",
   "metadata": {},
   "outputs": [],
   "source": [
    "import urllib\n",
    "df['protocol'],df['domain'],df['path'],df['query'],df['fragment'] = zip(*df['url'].map(urllib.parse.urlsplit))"
   ]
  },
  {
   "cell_type": "code",
   "execution_count": 23,
   "id": "third-instrument",
   "metadata": {},
   "outputs": [],
   "source": [
    "def get_relevant(column_name):\n",
    "    ser = df[column_name].copy()\n",
    "    ser.replace(r'^\\s*$', np.NaN, regex=True, inplace=True)\n",
    "    ser.replace(r\"\"\"!\"#$%&'()*+,-./:;<=>?@[\\]^_`{|}~\"\"\",' ', inplace=True)\n",
    "    ser.replace(r\"=.*=\",' ', inplace=True)\n",
    "    for idx in ser[~ser.isna()].index:\n",
    "        i = ser.loc[idx]\n",
    "        clean_i = re.sub(r\"www\",'', i)\n",
    "        clean_i = re.sub(r\"http|https\",'', clean_i)\n",
    "        I = re.findall('([A-Z]+[a-z]*|[a-z]+)', clean_i)\n",
    "        \n",
    "        if column_name=='domain' and len(I)>1:\n",
    "            I = [word.strip().lower() for word in I]\n",
    "            df.loc[idx, 'extention'] = I[-1]\n",
    "#             I = I[:-1]\n",
    "            I = [word.strip().lower() for word in I if len(word) >= 2 ]\n",
    "        else:\n",
    "            I = [word.strip().lower() for word in I if len(word) > 2 ]\n",
    "            \n",
    "        df.loc[idx, 'list_'+column_name]=' '.join(I)\n",
    "    df['list_'+column_name] = df['list_'+column_name].replace(r'^\\s*$', np.NaN, regex=True)"
   ]
  },
  {
   "cell_type": "code",
   "execution_count": null,
   "id": "empirical-petite",
   "metadata": {},
   "outputs": [],
   "source": []
  },
  {
   "cell_type": "code",
   "execution_count": 24,
   "id": "objective-piece",
   "metadata": {},
   "outputs": [],
   "source": [
    "get_relevant('title')\n",
    "get_relevant('fragment')\n",
    "get_relevant('path')\n",
    "get_relevant('domain')\n",
    "get_relevant('query')"
   ]
  },
  {
   "cell_type": "code",
   "execution_count": 25,
   "id": "painted-period",
   "metadata": {},
   "outputs": [
    {
     "data": {
      "text/plain": [
       "com    5246\n",
       "de     3778\n",
       "net     452\n",
       "org      79\n",
       "eu       41\n",
       "       ... \n",
       "lu        1\n",
       "li        1\n",
       "tr        1\n",
       "fun       1\n",
       "ip        1\n",
       "Name: extention, Length: 77, dtype: int64"
      ]
     },
     "execution_count": 25,
     "metadata": {},
     "output_type": "execute_result"
    }
   ],
   "source": [
    "df['extention'].value_counts()"
   ]
  },
  {
   "cell_type": "code",
   "execution_count": 26,
   "id": "dominican-relative",
   "metadata": {},
   "outputs": [
    {
     "data": {
      "text/html": [
       "<div>\n",
       "<style scoped>\n",
       "    .dataframe tbody tr th:only-of-type {\n",
       "        vertical-align: middle;\n",
       "    }\n",
       "\n",
       "    .dataframe tbody tr th {\n",
       "        vertical-align: top;\n",
       "    }\n",
       "\n",
       "    .dataframe thead th {\n",
       "        text-align: right;\n",
       "    }\n",
       "</style>\n",
       "<table border=\"1\" class=\"dataframe\">\n",
       "  <thead>\n",
       "    <tr style=\"text-align: right;\">\n",
       "      <th></th>\n",
       "      <th>title</th>\n",
       "      <th>list_title</th>\n",
       "    </tr>\n",
       "    <tr>\n",
       "      <th>id</th>\n",
       "      <th></th>\n",
       "      <th></th>\n",
       "    </tr>\n",
       "  </thead>\n",
       "  <tbody>\n",
       "    <tr>\n",
       "      <th>354189</th>\n",
       "      <td>Mein Standort nach lorsch kulturerbe - Google ...</td>\n",
       "      <td>mein standort nach lorsch kulturerbe google maps</td>\n",
       "    </tr>\n",
       "    <tr>\n",
       "      <th>20596</th>\n",
       "      <td>(60 ungelesen) – anonymizedName – Yahoo Mail</td>\n",
       "      <td>ungelesen anonymized name yahoo mail</td>\n",
       "    </tr>\n",
       "    <tr>\n",
       "      <th>513182</th>\n",
       "      <td>Song of Healing 10 Hours - YouTube</td>\n",
       "      <td>song healing hours you tube</td>\n",
       "    </tr>\n",
       "    <tr>\n",
       "      <th>951408</th>\n",
       "      <td>OpinionHUB</td>\n",
       "      <td>opinion hub</td>\n",
       "    </tr>\n",
       "    <tr>\n",
       "      <th>632599</th>\n",
       "      <td>Please Wait</td>\n",
       "      <td>please wait</td>\n",
       "    </tr>\n",
       "    <tr>\n",
       "      <th>...</th>\n",
       "      <td>...</td>\n",
       "      <td>...</td>\n",
       "    </tr>\n",
       "    <tr>\n",
       "      <th>249870</th>\n",
       "      <td>Gerichtskosten – Betreuungsrecht-Lexikon</td>\n",
       "      <td>gerichtskosten betreuungsrecht lexikon</td>\n",
       "    </tr>\n",
       "    <tr>\n",
       "      <th>35136</th>\n",
       "      <td>Postbank: Schnell und bequem Girokonto eröffne...</td>\n",
       "      <td>postbank schnell und bequem girokonto ffnen ns...</td>\n",
       "    </tr>\n",
       "    <tr>\n",
       "      <th>826660</th>\n",
       "      <td>1&amp;1 Webmail - E-Mail made in Germany</td>\n",
       "      <td>webmail mail made germany</td>\n",
       "    </tr>\n",
       "    <tr>\n",
       "      <th>13700</th>\n",
       "      <td>Markus Söder fordert nationalen Pandemieplan -...</td>\n",
       "      <td>markus der fordert nationalen pandemieplan rch...</td>\n",
       "    </tr>\n",
       "    <tr>\n",
       "      <th>460271</th>\n",
       "      <td>Cint Consent</td>\n",
       "      <td>cint consent</td>\n",
       "    </tr>\n",
       "  </tbody>\n",
       "</table>\n",
       "<p>8341 rows × 2 columns</p>\n",
       "</div>"
      ],
      "text/plain": [
       "                                                    title  \\\n",
       "id                                                          \n",
       "354189  Mein Standort nach lorsch kulturerbe - Google ...   \n",
       "20596        (60 ungelesen) – anonymizedName – Yahoo Mail   \n",
       "513182                 Song of Healing 10 Hours - YouTube   \n",
       "951408                                         OpinionHUB   \n",
       "632599                                        Please Wait   \n",
       "...                                                   ...   \n",
       "249870           Gerichtskosten – Betreuungsrecht-Lexikon   \n",
       "35136   Postbank: Schnell und bequem Girokonto eröffne...   \n",
       "826660               1&1 Webmail - E-Mail made in Germany   \n",
       "13700   Markus Söder fordert nationalen Pandemieplan -...   \n",
       "460271                                       Cint Consent   \n",
       "\n",
       "                                               list_title  \n",
       "id                                                         \n",
       "354189   mein standort nach lorsch kulturerbe google maps  \n",
       "20596                ungelesen anonymized name yahoo mail  \n",
       "513182                        song healing hours you tube  \n",
       "951408                                        opinion hub  \n",
       "632599                                        please wait  \n",
       "...                                                   ...  \n",
       "249870             gerichtskosten betreuungsrecht lexikon  \n",
       "35136   postbank schnell und bequem girokonto ffnen ns...  \n",
       "826660                          webmail mail made germany  \n",
       "13700   markus der fordert nationalen pandemieplan rch...  \n",
       "460271                                       cint consent  \n",
       "\n",
       "[8341 rows x 2 columns]"
      ]
     },
     "execution_count": 26,
     "metadata": {},
     "output_type": "execute_result"
    }
   ],
   "source": [
    "df[['title','list_title']][~df['list_title'].isna()]"
   ]
  },
  {
   "cell_type": "code",
   "execution_count": 27,
   "id": "hourly-algeria",
   "metadata": {},
   "outputs": [
    {
     "data": {
      "text/html": [
       "<div>\n",
       "<style scoped>\n",
       "    .dataframe tbody tr th:only-of-type {\n",
       "        vertical-align: middle;\n",
       "    }\n",
       "\n",
       "    .dataframe tbody tr th {\n",
       "        vertical-align: top;\n",
       "    }\n",
       "\n",
       "    .dataframe thead th {\n",
       "        text-align: right;\n",
       "    }\n",
       "</style>\n",
       "<table border=\"1\" class=\"dataframe\">\n",
       "  <thead>\n",
       "    <tr style=\"text-align: right;\">\n",
       "      <th></th>\n",
       "      <th>fragment</th>\n",
       "      <th>list_fragment</th>\n",
       "    </tr>\n",
       "    <tr>\n",
       "      <th>id</th>\n",
       "      <th></th>\n",
       "      <th></th>\n",
       "    </tr>\n",
       "  </thead>\n",
       "  <tbody>\n",
       "    <tr>\n",
       "      <th>375243</th>\n",
       "      <td>sie=lg;/g/11j34fws37;2;/m/037169;mt;fp;1;;</td>\n",
       "      <td>sie fws</td>\n",
       "    </tr>\n",
       "    <tr>\n",
       "      <th>697235</th>\n",
       "      <td>inbox/FMfcgxwKjBLSpKlNcWnZMbrVdwZcWplb</td>\n",
       "      <td>inbox fmfcgxw blsp zmbr vdw wplb</td>\n",
       "    </tr>\n",
       "    <tr>\n",
       "      <th>304616</th>\n",
       "      <td>Das-war-es-fuer-heute</td>\n",
       "      <td>das war fuer heute</td>\n",
       "    </tr>\n",
       "    <tr>\n",
       "      <th>527067</th>\n",
       "      <td>photos;aggregationId=101&amp;albumid=101&amp;filter=7&amp;...</td>\n",
       "      <td>photos aggregation albumid filter</td>\n",
       "    </tr>\n",
       "    <tr>\n",
       "      <th>796113</th>\n",
       "      <td>f=INBOX.Trash</td>\n",
       "      <td>inbox trash</td>\n",
       "    </tr>\n",
       "    <tr>\n",
       "      <th>...</th>\n",
       "      <td>...</td>\n",
       "      <td>...</td>\n",
       "    </tr>\n",
       "    <tr>\n",
       "      <th>274536</th>\n",
       "      <td>search/meinungsclub/FMfcgxwJZJZlTPBQzbfwdCwnmN...</td>\n",
       "      <td>search meinungsclub fmfcgxw jzjzl tpbqzbfwd cw...</td>\n",
       "    </tr>\n",
       "    <tr>\n",
       "      <th>180875</th>\n",
       "      <td>f=INBOX&amp;m=1552672436378010&amp;method=showReadmail</td>\n",
       "      <td>inbox method show readmail</td>\n",
       "    </tr>\n",
       "    <tr>\n",
       "      <th>61267</th>\n",
       "      <td>view=home&amp;op=translate&amp;sl=pl&amp;tl=de&amp;text=Po%20d...</td>\n",
       "      <td>view home translate text dlugich latach spotka...</td>\n",
       "    </tr>\n",
       "    <tr>\n",
       "      <th>596192</th>\n",
       "      <td>inbox</td>\n",
       "      <td>inbox</td>\n",
       "    </tr>\n",
       "    <tr>\n",
       "      <th>134548</th>\n",
       "      <td>slajd-16</td>\n",
       "      <td>slajd</td>\n",
       "    </tr>\n",
       "  </tbody>\n",
       "</table>\n",
       "<p>743 rows × 2 columns</p>\n",
       "</div>"
      ],
      "text/plain": [
       "                                                 fragment  \\\n",
       "id                                                          \n",
       "375243         sie=lg;/g/11j34fws37;2;/m/037169;mt;fp;1;;   \n",
       "697235             inbox/FMfcgxwKjBLSpKlNcWnZMbrVdwZcWplb   \n",
       "304616                              Das-war-es-fuer-heute   \n",
       "527067  photos;aggregationId=101&albumid=101&filter=7&...   \n",
       "796113                                      f=INBOX.Trash   \n",
       "...                                                   ...   \n",
       "274536  search/meinungsclub/FMfcgxwJZJZlTPBQzbfwdCwnmN...   \n",
       "180875     f=INBOX&m=1552672436378010&method=showReadmail   \n",
       "61267   view=home&op=translate&sl=pl&tl=de&text=Po%20d...   \n",
       "596192                                              inbox   \n",
       "134548                                           slajd-16   \n",
       "\n",
       "                                            list_fragment  \n",
       "id                                                         \n",
       "375243                                            sie fws  \n",
       "697235                   inbox fmfcgxw blsp zmbr vdw wplb  \n",
       "304616                                 das war fuer heute  \n",
       "527067                  photos aggregation albumid filter  \n",
       "796113                                        inbox trash  \n",
       "...                                                   ...  \n",
       "274536  search meinungsclub fmfcgxw jzjzl tpbqzbfwd cw...  \n",
       "180875                         inbox method show readmail  \n",
       "61267   view home translate text dlugich latach spotka...  \n",
       "596192                                              inbox  \n",
       "134548                                              slajd  \n",
       "\n",
       "[743 rows x 2 columns]"
      ]
     },
     "execution_count": 27,
     "metadata": {},
     "output_type": "execute_result"
    }
   ],
   "source": [
    "df[['fragment','list_fragment']][~df['list_fragment'].isna()]"
   ]
  },
  {
   "cell_type": "code",
   "execution_count": 28,
   "id": "suspended-madison",
   "metadata": {},
   "outputs": [
    {
     "data": {
      "text/html": [
       "<div>\n",
       "<style scoped>\n",
       "    .dataframe tbody tr th:only-of-type {\n",
       "        vertical-align: middle;\n",
       "    }\n",
       "\n",
       "    .dataframe tbody tr th {\n",
       "        vertical-align: top;\n",
       "    }\n",
       "\n",
       "    .dataframe thead th {\n",
       "        text-align: right;\n",
       "    }\n",
       "</style>\n",
       "<table border=\"1\" class=\"dataframe\">\n",
       "  <thead>\n",
       "    <tr style=\"text-align: right;\">\n",
       "      <th></th>\n",
       "      <th>path</th>\n",
       "      <th>list_path</th>\n",
       "    </tr>\n",
       "    <tr>\n",
       "      <th>id</th>\n",
       "      <th></th>\n",
       "      <th></th>\n",
       "    </tr>\n",
       "  </thead>\n",
       "  <tbody>\n",
       "    <tr>\n",
       "      <th>354189</th>\n",
       "      <td>/maps/dir/49.5267539;8.5796006/lorsch+kulturer...</td>\n",
       "      <td>maps dir lorsch kulturerbe data fed</td>\n",
       "    </tr>\n",
       "    <tr>\n",
       "      <th>20596</th>\n",
       "      <td>/neo/launch</td>\n",
       "      <td>neo launch</td>\n",
       "    </tr>\n",
       "    <tr>\n",
       "      <th>513182</th>\n",
       "      <td>/watch</td>\n",
       "      <td>watch</td>\n",
       "    </tr>\n",
       "    <tr>\n",
       "      <th>951408</th>\n",
       "      <td>/Survey/Complete/0b7c19f0-6ec5-4875-5bde-2e579...</td>\n",
       "      <td>survey complete bde</td>\n",
       "    </tr>\n",
       "    <tr>\n",
       "      <th>632599</th>\n",
       "      <td>/survey/a369700d-bb9a-c1dc-672c-4742da3376d9/q...</td>\n",
       "      <td>survey question</td>\n",
       "    </tr>\n",
       "    <tr>\n",
       "      <th>...</th>\n",
       "      <td>...</td>\n",
       "      <td>...</td>\n",
       "    </tr>\n",
       "    <tr>\n",
       "      <th>512584</th>\n",
       "      <td>/lnk/BAAAAP_Sk-8AAcxNbjwAAAUzy6YAAAAHrEIAAAAAA...</td>\n",
       "      <td>lnk baaaap aacx nbjw aaauzy yaaaahr eiaaaaaaay...</td>\n",
       "    </tr>\n",
       "    <tr>\n",
       "      <th>424959</th>\n",
       "      <td>/Survey/ReturnView/4f01b1fb-3076-6ce4-ddef-862...</td>\n",
       "      <td>survey return view ddef adca</td>\n",
       "    </tr>\n",
       "    <tr>\n",
       "      <th>780089</th>\n",
       "      <td>/router.php</td>\n",
       "      <td>router php</td>\n",
       "    </tr>\n",
       "    <tr>\n",
       "      <th>13700</th>\n",
       "      <td>/markus-soeder-fordert-nationalen-pandemieplan/</td>\n",
       "      <td>markus soeder fordert nationalen pandemieplan</td>\n",
       "    </tr>\n",
       "    <tr>\n",
       "      <th>460271</th>\n",
       "      <td>/Consent/Collect/5016d2bc-d2ac-3843-2fa2-e53dd...</td>\n",
       "      <td>consent collect</td>\n",
       "    </tr>\n",
       "  </tbody>\n",
       "</table>\n",
       "<p>8794 rows × 2 columns</p>\n",
       "</div>"
      ],
      "text/plain": [
       "                                                     path  \\\n",
       "id                                                          \n",
       "354189  /maps/dir/49.5267539;8.5796006/lorsch+kulturer...   \n",
       "20596                                         /neo/launch   \n",
       "513182                                             /watch   \n",
       "951408  /Survey/Complete/0b7c19f0-6ec5-4875-5bde-2e579...   \n",
       "632599  /survey/a369700d-bb9a-c1dc-672c-4742da3376d9/q...   \n",
       "...                                                   ...   \n",
       "512584  /lnk/BAAAAP_Sk-8AAcxNbjwAAAUzy6YAAAAHrEIAAAAAA...   \n",
       "424959  /Survey/ReturnView/4f01b1fb-3076-6ce4-ddef-862...   \n",
       "780089                                        /router.php   \n",
       "13700     /markus-soeder-fordert-nationalen-pandemieplan/   \n",
       "460271  /Consent/Collect/5016d2bc-d2ac-3843-2fa2-e53dd...   \n",
       "\n",
       "                                                list_path  \n",
       "id                                                         \n",
       "354189                maps dir lorsch kulturerbe data fed  \n",
       "20596                                          neo launch  \n",
       "513182                                              watch  \n",
       "951408                                survey complete bde  \n",
       "632599                                    survey question  \n",
       "...                                                   ...  \n",
       "512584  lnk baaaap aacx nbjw aaauzy yaaaahr eiaaaaaaay...  \n",
       "424959                       survey return view ddef adca  \n",
       "780089                                         router php  \n",
       "13700       markus soeder fordert nationalen pandemieplan  \n",
       "460271                                    consent collect  \n",
       "\n",
       "[8794 rows x 2 columns]"
      ]
     },
     "execution_count": 28,
     "metadata": {},
     "output_type": "execute_result"
    }
   ],
   "source": [
    "df[['path','list_path']][~df['list_path'].isna()]"
   ]
  },
  {
   "cell_type": "code",
   "execution_count": 29,
   "id": "later-thesis",
   "metadata": {},
   "outputs": [
    {
     "data": {
      "text/html": [
       "<div>\n",
       "<style scoped>\n",
       "    .dataframe tbody tr th:only-of-type {\n",
       "        vertical-align: middle;\n",
       "    }\n",
       "\n",
       "    .dataframe tbody tr th {\n",
       "        vertical-align: top;\n",
       "    }\n",
       "\n",
       "    .dataframe thead th {\n",
       "        text-align: right;\n",
       "    }\n",
       "</style>\n",
       "<table border=\"1\" class=\"dataframe\">\n",
       "  <thead>\n",
       "    <tr style=\"text-align: right;\">\n",
       "      <th></th>\n",
       "      <th>domain</th>\n",
       "      <th>list_domain</th>\n",
       "    </tr>\n",
       "    <tr>\n",
       "      <th>id</th>\n",
       "      <th></th>\n",
       "      <th></th>\n",
       "    </tr>\n",
       "  </thead>\n",
       "  <tbody>\n",
       "    <tr>\n",
       "      <th>354189</th>\n",
       "      <td>www.google.com</td>\n",
       "      <td>google com</td>\n",
       "    </tr>\n",
       "    <tr>\n",
       "      <th>20596</th>\n",
       "      <td>mg.mail.yahoo.com</td>\n",
       "      <td>mg mail yahoo com</td>\n",
       "    </tr>\n",
       "    <tr>\n",
       "      <th>513182</th>\n",
       "      <td>www.youtube.com</td>\n",
       "      <td>youtube com</td>\n",
       "    </tr>\n",
       "    <tr>\n",
       "      <th>951408</th>\n",
       "      <td>s.cint.com</td>\n",
       "      <td>cint com</td>\n",
       "    </tr>\n",
       "    <tr>\n",
       "      <th>632599</th>\n",
       "      <td>qps.cint.com</td>\n",
       "      <td>qps cint com</td>\n",
       "    </tr>\n",
       "    <tr>\n",
       "      <th>...</th>\n",
       "      <td>...</td>\n",
       "      <td>...</td>\n",
       "    </tr>\n",
       "    <tr>\n",
       "      <th>780089</th>\n",
       "      <td>www.ipsossurveyexperiment.com</td>\n",
       "      <td>ipsossurveyexperiment com</td>\n",
       "    </tr>\n",
       "    <tr>\n",
       "      <th>826660</th>\n",
       "      <td>navigator.1und1.de</td>\n",
       "      <td>navigator und de</td>\n",
       "    </tr>\n",
       "    <tr>\n",
       "      <th>13700</th>\n",
       "      <td>www.zuercher-presse.com</td>\n",
       "      <td>zuercher presse com</td>\n",
       "    </tr>\n",
       "    <tr>\n",
       "      <th>532838</th>\n",
       "      <td>www.survey-cogitaris.de</td>\n",
       "      <td>survey cogitaris de</td>\n",
       "    </tr>\n",
       "    <tr>\n",
       "      <th>460271</th>\n",
       "      <td>s.cint.com</td>\n",
       "      <td>cint com</td>\n",
       "    </tr>\n",
       "  </tbody>\n",
       "</table>\n",
       "<p>9982 rows × 2 columns</p>\n",
       "</div>"
      ],
      "text/plain": [
       "                               domain                list_domain\n",
       "id                                                              \n",
       "354189                 www.google.com                 google com\n",
       "20596               mg.mail.yahoo.com          mg mail yahoo com\n",
       "513182                www.youtube.com                youtube com\n",
       "951408                     s.cint.com                   cint com\n",
       "632599                   qps.cint.com               qps cint com\n",
       "...                               ...                        ...\n",
       "780089  www.ipsossurveyexperiment.com  ipsossurveyexperiment com\n",
       "826660             navigator.1und1.de           navigator und de\n",
       "13700         www.zuercher-presse.com        zuercher presse com\n",
       "532838        www.survey-cogitaris.de        survey cogitaris de\n",
       "460271                     s.cint.com                   cint com\n",
       "\n",
       "[9982 rows x 2 columns]"
      ]
     },
     "execution_count": 29,
     "metadata": {},
     "output_type": "execute_result"
    }
   ],
   "source": [
    "df[['domain','list_domain']][~df['list_domain'].isna()]"
   ]
  },
  {
   "cell_type": "code",
   "execution_count": 30,
   "id": "continent-chrome",
   "metadata": {},
   "outputs": [
    {
     "data": {
      "text/html": [
       "<div>\n",
       "<style scoped>\n",
       "    .dataframe tbody tr th:only-of-type {\n",
       "        vertical-align: middle;\n",
       "    }\n",
       "\n",
       "    .dataframe tbody tr th {\n",
       "        vertical-align: top;\n",
       "    }\n",
       "\n",
       "    .dataframe thead th {\n",
       "        text-align: right;\n",
       "    }\n",
       "</style>\n",
       "<table border=\"1\" class=\"dataframe\">\n",
       "  <thead>\n",
       "    <tr style=\"text-align: right;\">\n",
       "      <th></th>\n",
       "      <th>query</th>\n",
       "      <th>list_query</th>\n",
       "    </tr>\n",
       "    <tr>\n",
       "      <th>id</th>\n",
       "      <th></th>\n",
       "      <th></th>\n",
       "    </tr>\n",
       "  </thead>\n",
       "  <tbody>\n",
       "    <tr>\n",
       "      <th>20596</th>\n",
       "      <td>.rand=94ndpsd8aumca</td>\n",
       "      <td>rand ndpsd aumca</td>\n",
       "    </tr>\n",
       "    <tr>\n",
       "      <th>513182</th>\n",
       "      <td>v=WXnWfx6bIVE&amp;t=100s</td>\n",
       "      <td>wxn wfx ive</td>\n",
       "    </tr>\n",
       "    <tr>\n",
       "      <th>951408</th>\n",
       "      <td>cpx.red=1</td>\n",
       "      <td>cpx red</td>\n",
       "    </tr>\n",
       "    <tr>\n",
       "      <th>823744</th>\n",
       "      <td>competitionKey=tgd202001241410658615&amp;slotId=1_...</td>\n",
       "      <td>competition key tgd slot mag gametype mag</td>\n",
       "    </tr>\n",
       "    <tr>\n",
       "      <th>93041</th>\n",
       "      <td>p=TG9nb3V0QWRQcm94eS5zZXJ2aWNlPXNraW5uYWJsZWxv...</td>\n",
       "      <td>qwrqcm zxj wnl pxnra ywjs zwxv czza xrl pxdl r...</td>\n",
       "    </tr>\n",
       "    <tr>\n",
       "      <th>...</th>\n",
       "      <td>...</td>\n",
       "      <td>...</td>\n",
       "    </tr>\n",
       "    <tr>\n",
       "      <th>780089</th>\n",
       "      <td>guid=DE1DSYCUZ&amp;uid=150143152</td>\n",
       "      <td>guid dsycuz uid</td>\n",
       "    </tr>\n",
       "    <tr>\n",
       "      <th>826660</th>\n",
       "      <td>sid=31ac6a506f6695ab578c931cbc328f69db9ede4029...</td>\n",
       "      <td>sid cbc ede bea</td>\n",
       "    </tr>\n",
       "    <tr>\n",
       "      <th>13700</th>\n",
       "      <td>fbclid=IwAR1EfEptVgz1HJSZYaGZjLGhrietHHLiVSRAV...</td>\n",
       "      <td>fbclid ept vgz hjszya gzj lghriet hhli vsravdd...</td>\n",
       "    </tr>\n",
       "    <tr>\n",
       "      <th>532838</th>\n",
       "      <td>m=6031&amp;url=http%3A%2F%2Fmingle.respondi.com%2F...</td>\n",
       "      <td>url fmingle respondi com fospe php return tic ...</td>\n",
       "    </tr>\n",
       "    <tr>\n",
       "      <th>460271</th>\n",
       "      <td>rv=1&amp;tm.a=62&amp;OldId=276286198&amp;CIDFlag=0&amp;TIDFlag...</td>\n",
       "      <td>old cidflag tidflag survey complete flag total...</td>\n",
       "    </tr>\n",
       "  </tbody>\n",
       "</table>\n",
       "<p>5411 rows × 2 columns</p>\n",
       "</div>"
      ],
      "text/plain": [
       "                                                    query  \\\n",
       "id                                                          \n",
       "20596                                 .rand=94ndpsd8aumca   \n",
       "513182                               v=WXnWfx6bIVE&t=100s   \n",
       "951408                                          cpx.red=1   \n",
       "823744  competitionKey=tgd202001241410658615&slotId=1_...   \n",
       "93041   p=TG9nb3V0QWRQcm94eS5zZXJ2aWNlPXNraW5uYWJsZWxv...   \n",
       "...                                                   ...   \n",
       "780089                       guid=DE1DSYCUZ&uid=150143152   \n",
       "826660  sid=31ac6a506f6695ab578c931cbc328f69db9ede4029...   \n",
       "13700   fbclid=IwAR1EfEptVgz1HJSZYaGZjLGhrietHHLiVSRAV...   \n",
       "532838  m=6031&url=http%3A%2F%2Fmingle.respondi.com%2F...   \n",
       "460271  rv=1&tm.a=62&OldId=276286198&CIDFlag=0&TIDFlag...   \n",
       "\n",
       "                                               list_query  \n",
       "id                                                         \n",
       "20596                                    rand ndpsd aumca  \n",
       "513182                                        wxn wfx ive  \n",
       "951408                                            cpx red  \n",
       "823744          competition key tgd slot mag gametype mag  \n",
       "93041   qwrqcm zxj wnl pxnra ywjs zwxv czza xrl pxdl r...  \n",
       "...                                                   ...  \n",
       "780089                                    guid dsycuz uid  \n",
       "826660                                    sid cbc ede bea  \n",
       "13700   fbclid ept vgz hjszya gzj lghriet hhli vsravdd...  \n",
       "532838  url fmingle respondi com fospe php return tic ...  \n",
       "460271  old cidflag tidflag survey complete flag total...  \n",
       "\n",
       "[5411 rows x 2 columns]"
      ]
     },
     "execution_count": 30,
     "metadata": {},
     "output_type": "execute_result"
    }
   ],
   "source": [
    "df[['query','list_query']][~df['list_query'].isna()]"
   ]
  },
  {
   "cell_type": "code",
   "execution_count": 31,
   "id": "transsexual-movement",
   "metadata": {},
   "outputs": [
    {
     "data": {
      "text/plain": [
       "id\n",
       "354189    https://www.google.com/maps/dir/49.5267539;8.5...\n",
       "20596     https://mg.mail.yahoo.com/neo/launch?.rand=94n...\n",
       "513182    https://www.youtube.com/watch?v=WXnWfx6bIVE&t=...\n",
       "951408    https://s.cint.com/Survey/Complete/0b7c19f0-6e...\n",
       "632599    https://qps.cint.com/survey/a369700d-bb9a-c1dc...\n",
       "                                ...                        \n",
       "780089    https://www.ipsossurveyexperiment.com/router.p...\n",
       "826660    https://navigator.1und1.de/?sid=31ac6a506f6695...\n",
       "13700     https://www.zuercher-presse.com/markus-soeder-...\n",
       "532838    https://www.survey-cogitaris.de/?m=6031&url=ht...\n",
       "460271    https://s.cint.com/Consent/Collect/5016d2bc-d2...\n",
       "Name: url, Length: 9998, dtype: object"
      ]
     },
     "execution_count": 31,
     "metadata": {},
     "output_type": "execute_result"
    }
   ],
   "source": [
    "df['url']"
   ]
  },
  {
   "cell_type": "code",
   "execution_count": 32,
   "id": "imperial-ceremony",
   "metadata": {},
   "outputs": [
    {
     "data": {
      "text/plain": [
       "Series([], Name: total_text, dtype: object)"
      ]
     },
     "execution_count": 32,
     "metadata": {},
     "output_type": "execute_result"
    }
   ],
   "source": [
    "df['total_text'] = df['list_title'].fillna('')+' '+df['list_path'].fillna('')+' '+df['list_fragment'].fillna('')+' '+df['list_domain'].fillna('')+' '+df['list_query'].fillna('')+' '+df['extention'].fillna('')\n",
    "df['total_text'].replace(r'^\\s*$', np.NaN, regex=True,inplace=True)\n",
    "df['l']=[type(s) for s in df['total_text']]\n",
    "df['total_text'][df['l']==float]"
   ]
  },
  {
   "cell_type": "code",
   "execution_count": 33,
   "id": "joint-buddy",
   "metadata": {},
   "outputs": [
    {
     "data": {
      "text/plain": [
       "0"
      ]
     },
     "execution_count": 33,
     "metadata": {},
     "output_type": "execute_result"
    }
   ],
   "source": [
    "df['total_text'][df['total_text'].isna()].sum()"
   ]
  },
  {
   "cell_type": "code",
   "execution_count": null,
   "id": "lovely-forty",
   "metadata": {},
   "outputs": [],
   "source": []
  },
  {
   "cell_type": "code",
   "execution_count": 34,
   "id": "durable-uncle",
   "metadata": {},
   "outputs": [],
   "source": [
    "df.drop(df['total_text'][df['l']==float].index, inplace=True)\n",
    "\n",
    "sentences = list(df['total_text'].str.split())\n",
    "combined = list(itertools.chain.from_iterable(sentences))"
   ]
  },
  {
   "cell_type": "code",
   "execution_count": 35,
   "id": "future-intake",
   "metadata": {},
   "outputs": [
    {
     "data": {
      "text/plain": [
       "180166"
      ]
     },
     "execution_count": 35,
     "metadata": {},
     "output_type": "execute_result"
    }
   ],
   "source": [
    "len(combined)"
   ]
  },
  {
   "cell_type": "code",
   "execution_count": 36,
   "id": "focal-moral",
   "metadata": {},
   "outputs": [
    {
     "data": {
      "text/plain": [
       "39344"
      ]
     },
     "execution_count": 36,
     "metadata": {},
     "output_type": "execute_result"
    }
   ],
   "source": [
    "len(set(combined))"
   ]
  },
  {
   "cell_type": "code",
   "execution_count": 37,
   "id": "occasional-going",
   "metadata": {},
   "outputs": [
    {
     "name": "stdout",
     "output_type": "stream",
     "text": [
      "['mein', 'standort', 'nach', 'lorsch', 'kulturerbe', 'google', 'maps', 'maps', 'dir', 'lorsch', 'kulturerbe', 'data', 'fed', 'google', 'com', 'com']\n",
      "['ungelesen', 'anonymized', 'name', 'yahoo', 'mail', 'neo', 'launch', 'mg', 'mail', 'yahoo', 'com', 'rand', 'ndpsd', 'aumca', 'com']\n",
      "['song', 'healing', 'hours', 'you', 'tube', 'watch', 'youtube', 'com', 'wxn', 'wfx', 'ive', 'com']\n",
      "['opinion', 'hub', 'survey', 'complete', 'bde', 'cint', 'com', 'cpx', 'red', 'com']\n",
      "['please', 'wait', 'survey', 'question', 'qps', 'cint', 'com', 'com']\n",
      "['cabrio', 'bay', 'kleinanzeigen', 'cabrio', 'ebay', 'kleinanzeigen', 'de', 'de']\n",
      "['game', 'duell', 'mit', 'freunden', 'online', 'kostenlose', 'spiele', 'spielen', 'games', 'singleplayer', 'result', 'xhtml', 'mein', 'gameduell', 'de', 'competition', 'key', 'tgd', 'slot', 'mag', 'gametype', 'mag', 'de']\n",
      "['web', 'mail', 'adresse', 'kostenlos', 'free', 'mail', 'mail', 'nachrichten', 'logoutlounge', 'web', 'de', 'qwrqcm', 'zxj', 'wnl', 'pxnra', 'ywjs', 'zwxv', 'czza', 'xrl', 'pxdl', 'rpb', 'wwvb', 'fta', 'xnja', 'czh', 'otdf', 'tczzc', 'gvja', 'wfs', 'psz', 'vyb', 'zww', 'ptamb', 'mdamcm', 'vna', 'pwrl', 'ntymc', 'revf', 'ndy', 'njkma', 'glk', 'pti', 'ota', 'ytbh', 'ywy', 'yjg', 'zdiz', 'de']\n",
      "['rover', 'rover', 'ebay', 'com', 'segname', 'pop', 'country', 'gdohp', 'stu', 'crd', 'soj', 'tags', 'adcampid', 'did', 'cadcamppu', 'dpu', 'ccrd', 'dcrd', 'csegname', 'dsegname', 'adobe', 'params', 'com']\n",
      "['kat', 'herlo', 'succubus', 'demon', 'sex', 'scene', 'repeat', 'mix', 'sex', 'motors', 'videos', 'sexmotors', 'com', 'com']\n"
     ]
    }
   ],
   "source": [
    "for i in range(10):\n",
    "    print(sentences[i])"
   ]
  },
  {
   "cell_type": "code",
   "execution_count": 38,
   "id": "rising-rendering",
   "metadata": {},
   "outputs": [
    {
     "data": {
      "image/png": "[encoded data removed]",
      "text/plain": [
       "<Figure size 432x288 with 1 Axes>"
      ]
     },
     "metadata": {
      "needs_background": "light"
     },
     "output_type": "display_data"
    }
   ],
   "source": [
    "from collections import Counter\n",
    "\n",
    "counter_keys = Counter(combined).keys() # equals to list(set(words))\n",
    "counter_values = Counter(combined).values()\n",
    "\n",
    "counter_values_np = np.fromiter(counter_values, dtype=float)\n",
    "\n",
    "plt.hist(counter_values_np[(counter_values_np<=100)&(counter_values_np>=5)], bins=100, log=True)\n",
    "plt.title('frequency word distribution')\n",
    "plt.show()# counts the elements' frequency"
   ]
  },
  {
   "cell_type": "code",
   "execution_count": 39,
   "id": "plain-musician",
   "metadata": {},
   "outputs": [
    {
     "data": {
      "text/plain": [
       "39344"
      ]
     },
     "execution_count": 39,
     "metadata": {},
     "output_type": "execute_result"
    }
   ],
   "source": [
    "len(set(combined))"
   ]
  },
  {
   "cell_type": "markdown",
   "id": "green-queen",
   "metadata": {},
   "source": [
    "## the embedding model is going to contain about 3900 words"
   ]
  },
  {
   "cell_type": "code",
   "execution_count": 40,
   "id": "internal-better",
   "metadata": {},
   "outputs": [
    {
     "data": {
      "text/html": [
       "<div>\n",
       "<style scoped>\n",
       "    .dataframe tbody tr th:only-of-type {\n",
       "        vertical-align: middle;\n",
       "    }\n",
       "\n",
       "    .dataframe tbody tr th {\n",
       "        vertical-align: top;\n",
       "    }\n",
       "\n",
       "    .dataframe thead th {\n",
       "        text-align: right;\n",
       "    }\n",
       "</style>\n",
       "<table border=\"1\" class=\"dataframe\">\n",
       "  <thead>\n",
       "    <tr style=\"text-align: right;\">\n",
       "      <th></th>\n",
       "      <th>counts</th>\n",
       "    </tr>\n",
       "  </thead>\n",
       "  <tbody>\n",
       "    <tr>\n",
       "      <th>mein</th>\n",
       "      <td>127</td>\n",
       "    </tr>\n",
       "    <tr>\n",
       "      <th>standort</th>\n",
       "      <td>6</td>\n",
       "    </tr>\n",
       "    <tr>\n",
       "      <th>nach</th>\n",
       "      <td>105</td>\n",
       "    </tr>\n",
       "    <tr>\n",
       "      <th>google</th>\n",
       "      <td>1836</td>\n",
       "    </tr>\n",
       "    <tr>\n",
       "      <th>maps</th>\n",
       "      <td>464</td>\n",
       "    </tr>\n",
       "    <tr>\n",
       "      <th>...</th>\n",
       "      <td>...</td>\n",
       "    </tr>\n",
       "    <tr>\n",
       "      <th>his</th>\n",
       "      <td>6</td>\n",
       "    </tr>\n",
       "    <tr>\n",
       "      <th>aah</th>\n",
       "      <td>6</td>\n",
       "    </tr>\n",
       "    <tr>\n",
       "      <th>focusgroup</th>\n",
       "      <td>6</td>\n",
       "    </tr>\n",
       "    <tr>\n",
       "      <th>vcg</th>\n",
       "      <td>8</td>\n",
       "    </tr>\n",
       "    <tr>\n",
       "      <th>iecaaqrz</th>\n",
       "      <td>7</td>\n",
       "    </tr>\n",
       "  </tbody>\n",
       "</table>\n",
       "<p>3580 rows × 1 columns</p>\n",
       "</div>"
      ],
      "text/plain": [
       "            counts\n",
       "mein           127\n",
       "standort         6\n",
       "nach           105\n",
       "google        1836\n",
       "maps           464\n",
       "...            ...\n",
       "his              6\n",
       "aah              6\n",
       "focusgroup       6\n",
       "vcg              8\n",
       "iecaaqrz         7\n",
       "\n",
       "[3580 rows x 1 columns]"
      ]
     },
     "execution_count": 40,
     "metadata": {},
     "output_type": "execute_result"
    }
   ],
   "source": [
    "df_words = pd.DataFrame({'counts':counter_values}, index=counter_keys)\n",
    "df_words[df_words['counts']>5]"
   ]
  },
  {
   "cell_type": "code",
   "execution_count": 41,
   "id": "orange-jamaica",
   "metadata": {},
   "outputs": [
    {
     "data": {
      "text/html": [
       "<div>\n",
       "<style scoped>\n",
       "    .dataframe tbody tr th:only-of-type {\n",
       "        vertical-align: middle;\n",
       "    }\n",
       "\n",
       "    .dataframe tbody tr th {\n",
       "        vertical-align: top;\n",
       "    }\n",
       "\n",
       "    .dataframe thead th {\n",
       "        text-align: right;\n",
       "    }\n",
       "</style>\n",
       "<table border=\"1\" class=\"dataframe\">\n",
       "  <thead>\n",
       "    <tr style=\"text-align: right;\">\n",
       "      <th></th>\n",
       "      <th>counts</th>\n",
       "    </tr>\n",
       "  </thead>\n",
       "  <tbody>\n",
       "    <tr>\n",
       "      <th>mein</th>\n",
       "      <td>127</td>\n",
       "    </tr>\n",
       "    <tr>\n",
       "      <th>standort</th>\n",
       "      <td>6</td>\n",
       "    </tr>\n",
       "    <tr>\n",
       "      <th>nach</th>\n",
       "      <td>105</td>\n",
       "    </tr>\n",
       "    <tr>\n",
       "      <th>lorsch</th>\n",
       "      <td>4</td>\n",
       "    </tr>\n",
       "    <tr>\n",
       "      <th>kulturerbe</th>\n",
       "      <td>4</td>\n",
       "    </tr>\n",
       "    <tr>\n",
       "      <th>...</th>\n",
       "      <td>...</td>\n",
       "    </tr>\n",
       "    <tr>\n",
       "      <th>hhli</th>\n",
       "      <td>1</td>\n",
       "    </tr>\n",
       "    <tr>\n",
       "      <th>vsravdds</th>\n",
       "      <td>1</td>\n",
       "    </tr>\n",
       "    <tr>\n",
       "      <th>onf</th>\n",
       "      <td>1</td>\n",
       "    </tr>\n",
       "    <tr>\n",
       "      <th>lnseh</th>\n",
       "      <td>1</td>\n",
       "    </tr>\n",
       "    <tr>\n",
       "      <th>effab</th>\n",
       "      <td>1</td>\n",
       "    </tr>\n",
       "  </tbody>\n",
       "</table>\n",
       "<p>39344 rows × 1 columns</p>\n",
       "</div>"
      ],
      "text/plain": [
       "            counts\n",
       "mein           127\n",
       "standort         6\n",
       "nach           105\n",
       "lorsch           4\n",
       "kulturerbe       4\n",
       "...            ...\n",
       "hhli             1\n",
       "vsravdds         1\n",
       "onf              1\n",
       "lnseh            1\n",
       "effab            1\n",
       "\n",
       "[39344 rows x 1 columns]"
      ]
     },
     "execution_count": 41,
     "metadata": {},
     "output_type": "execute_result"
    }
   ],
   "source": [
    "df_words"
   ]
  },
  {
   "cell_type": "code",
   "execution_count": 42,
   "id": "considered-cutting",
   "metadata": {},
   "outputs": [],
   "source": [
    "from gensim.models import Word2Vec\n",
    "vector_size = 10\n",
    "from gensim.models.fasttext import FastText\n",
    "\n",
    "\n",
    "model = Word2Vec(vector_size = vector_size, min_count=5, negative=50, seed=21)\n",
    "model.build_vocab(sentences)  # prepare the model vocabulary\n",
    "model.train(sentences, total_examples=model.corpus_count, epochs=model.epochs)\n",
    "\n",
    "model.save(\"word2vec.model\")"
   ]
  },
  {
   "cell_type": "code",
   "execution_count": 43,
   "id": "norman-conversion",
   "metadata": {},
   "outputs": [],
   "source": [
    "test_words = df_words[df_words['counts']>300].index.to_list()\n",
    "# test_words = [word for word in test_words if len(word)>=4]"
   ]
  },
  {
   "cell_type": "code",
   "execution_count": 44,
   "id": "binary-facing",
   "metadata": {},
   "outputs": [
    {
     "data": {
      "image/png": "[encoded data removed]",
      "text/plain": [
       "<Figure size 1440x720 with 2 Axes>"
      ]
     },
     "metadata": {
      "needs_background": "light"
     },
     "output_type": "display_data"
    }
   ],
   "source": [
    "from gensim.models import Word2Vec\n",
    "from sklearn.decomposition import PCA\n",
    "from sklearn.manifold import TSNE\n",
    "from matplotlib import pyplot\n",
    "\n",
    "plt.figure(figsize=(20,10))\n",
    "# define training data\n",
    "sentences_test = test_words[:50]\n",
    "# # train model\n",
    "# model = Word2Vec(sentences, min_count=1)\n",
    "# fit a 2d PCA model to the vectors\n",
    "X = model.wv[sentences_test]\n",
    "\n",
    "pca = PCA(n_components=2)\n",
    "result = pca.fit_transform(X)\n",
    "\n",
    "# create a scatter plot of the projection\n",
    "plt.subplot(121)\n",
    "pyplot.scatter(result[:, 0], result[:, 1])\n",
    "words = list(sentences_test)\n",
    "for i, word in enumerate(words):\n",
    "    pyplot.annotate(word, xy=(result[i, 0], result[i, 1]), size=15)\n",
    "plt.title('PCA', size=20)\n",
    "\n",
    "tsne = TSNE(n_components=2, random_state=21)\n",
    "result = tsne.fit_transform(X) \n",
    "plt.subplot(122)\n",
    "pyplot.scatter(result[:, 0], result[:, 1])\n",
    "words = list(sentences_test)\n",
    "for i, word in enumerate(words):\n",
    "    pyplot.annotate(word, xy=(result[i, 0], result[i, 1]), size=15)\n",
    "plt.title('t-SNE', size=20)\n",
    "plt.tight_layout()\n",
    "pyplot.show()"
   ]
  },
  {
   "cell_type": "code",
   "execution_count": 46,
   "id": "allied-fellow",
   "metadata": {},
   "outputs": [
    {
     "data": {
      "text/plain": [
       "4282"
      ]
     },
     "execution_count": 46,
     "metadata": {},
     "output_type": "execute_result"
    }
   ],
   "source": [
    "len(model.wv.index_to_key)"
   ]
  },
  {
   "cell_type": "code",
   "execution_count": 47,
   "id": "powered-feature",
   "metadata": {},
   "outputs": [
    {
     "data": {
      "image/png": "[encoded data removed]",
      "text/plain": [
       "<Figure size 432x288 with 1 Axes>"
      ]
     },
     "metadata": {
      "needs_background": "light"
     },
     "output_type": "display_data"
    }
   ],
   "source": [
    "plt.plot(X.T)\n",
    "plt.show()"
   ]
  },
  {
   "cell_type": "markdown",
   "id": "paperback-oxide",
   "metadata": {},
   "source": [
    "### it would be good to chose words better to be more specific to the event"
   ]
  },
  {
   "cell_type": "code",
   "execution_count": 48,
   "id": "understood-comparison",
   "metadata": {},
   "outputs": [],
   "source": [
    "def vectorize(sentence):\n",
    "    frequent_words = []\n",
    "    weights = []\n",
    "    for word in sentence:\n",
    "        if word in model.wv.index_to_key:\n",
    "            frequent_words.append(word)\n",
    "            weight = float(df_words.loc[word].item())\n",
    "            weights.append(weight)\n",
    "#     print(weights)\n",
    "    if len(frequent_words)>0:\n",
    "        X = model.wv[frequent_words]/np.log10(np.array(weight))\n",
    "#         X = model.wv[frequent_words]/np.array(weight)\n",
    "        X_sum = X.sum(0)\n",
    "        return X_sum \n",
    "    else:\n",
    "        return np.zeros(vector_size)"
   ]
  },
  {
   "cell_type": "code",
   "execution_count": 49,
   "id": "threatened-merit",
   "metadata": {},
   "outputs": [
    {
     "data": {
      "text/plain": [
       "<gensim.models.keyedvectors.KeyedVectors at 0x244463ce760>"
      ]
     },
     "execution_count": 49,
     "metadata": {},
     "output_type": "execute_result"
    }
   ],
   "source": [
    " model.wv"
   ]
  },
  {
   "cell_type": "code",
   "execution_count": 50,
   "id": "supported-cement",
   "metadata": {},
   "outputs": [],
   "source": [
    "vec = [vectorize(sentence) for sentence in sentences]"
   ]
  },
  {
   "cell_type": "code",
   "execution_count": 51,
   "id": "roman-modeling",
   "metadata": {},
   "outputs": [
    {
     "data": {
      "text/plain": [
       "id\n",
       "354189                   google com\n",
       "20596             mg mail yahoo com\n",
       "513182                  youtube com\n",
       "951408                     cint com\n",
       "632599                 qps cint com\n",
       "                    ...            \n",
       "780089    ipsossurveyexperiment com\n",
       "826660             navigator und de\n",
       "13700           zuercher presse com\n",
       "532838          survey cogitaris de\n",
       "460271                     cint com\n",
       "Name: list_domain, Length: 9998, dtype: object"
      ]
     },
     "execution_count": 51,
     "metadata": {},
     "output_type": "execute_result"
    }
   ],
   "source": [
    "df['list_domain']"
   ]
  },
  {
   "cell_type": "code",
   "execution_count": 52,
   "id": "minor-wichita",
   "metadata": {},
   "outputs": [
    {
     "data": {
      "text/plain": [
       "https               9480\n",
       "http                 502\n",
       "file                  12\n",
       "chrome-extension       3\n",
       "moz-extension          1\n",
       "Name: protocol, dtype: int64"
      ]
     },
     "execution_count": 52,
     "metadata": {},
     "output_type": "execute_result"
    }
   ],
   "source": [
    "df['protocol'].value_counts()"
   ]
  },
  {
   "cell_type": "markdown",
   "id": "cognitive-ethnic",
   "metadata": {},
   "source": [
    "# using emediding vectors for different columns"
   ]
  },
  {
   "cell_type": "code",
   "execution_count": 53,
   "id": "stunning-belgium",
   "metadata": {},
   "outputs": [],
   "source": [
    "# df['list_path_query'] = df['list_path'].fillna('')+' '+df['list_query'].fillna('')"
   ]
  },
  {
   "cell_type": "code",
   "execution_count": 54,
   "id": "comprehensive-resident",
   "metadata": {},
   "outputs": [],
   "source": [
    "# DF = pd.DataFrame(index=df.index)\n",
    "\n",
    "# for feature in ['title','domain', 'path_query']:\n",
    "#     # separate the series into list\n",
    "#     sentences_feature = list(df[f'list_{feature}'].str.split())\n",
    "#     vec = [vectorize(sentence) if type(sentence)!=float else np.zeros(vector_size) for sentence in sentences_feature ]\n",
    "#     df_feature = pd.DataFrame(np.array(vec), columns=[f'{feature}_'+str(i) for i in range(vector_size)], index=df.index)\n",
    "#     DF = pd.concat((DF, df_feature), 1)"
   ]
  },
  {
   "cell_type": "code",
   "execution_count": 56,
   "id": "indie-forwarding",
   "metadata": {},
   "outputs": [],
   "source": [
    "# list_extentions_to_keep = list(df['extention'].value_counts()[df['extention'].value_counts()>20].index)\n",
    "# print(list_extentions_to_keep)\n",
    "# print('len ', len(list_extentions_to_keep))"
   ]
  },
  {
   "cell_type": "code",
   "execution_count": 57,
   "id": "lovely-eight",
   "metadata": {},
   "outputs": [],
   "source": [
    "# dumies  = pd.get_dummies(df['extention'][df['extention'].isin(list_extentions_to_keep)])\n",
    "# df.loc[dumies.index, dumies.columns] = dumies\n",
    "# df[dumies.columns] = df[dumies.columns].fillna(0)\n",
    "# df[dumies.columns].head()"
   ]
  },
  {
   "cell_type": "code",
   "execution_count": 58,
   "id": "invalid-maximum",
   "metadata": {},
   "outputs": [
    {
     "data": {
      "text/html": [
       "<div>\n",
       "<style scoped>\n",
       "    .dataframe tbody tr th:only-of-type {\n",
       "        vertical-align: middle;\n",
       "    }\n",
       "\n",
       "    .dataframe tbody tr th {\n",
       "        vertical-align: top;\n",
       "    }\n",
       "\n",
       "    .dataframe thead th {\n",
       "        text-align: right;\n",
       "    }\n",
       "</style>\n",
       "<table border=\"1\" class=\"dataframe\">\n",
       "  <thead>\n",
       "    <tr style=\"text-align: right;\">\n",
       "      <th></th>\n",
       "      <th>0</th>\n",
       "      <th>1</th>\n",
       "      <th>2</th>\n",
       "      <th>3</th>\n",
       "      <th>4</th>\n",
       "      <th>5</th>\n",
       "      <th>6</th>\n",
       "      <th>7</th>\n",
       "      <th>8</th>\n",
       "      <th>9</th>\n",
       "    </tr>\n",
       "    <tr>\n",
       "      <th>id</th>\n",
       "      <th></th>\n",
       "      <th></th>\n",
       "      <th></th>\n",
       "      <th></th>\n",
       "      <th></th>\n",
       "      <th></th>\n",
       "      <th></th>\n",
       "      <th></th>\n",
       "      <th></th>\n",
       "      <th></th>\n",
       "    </tr>\n",
       "  </thead>\n",
       "  <tbody>\n",
       "    <tr>\n",
       "      <th>354189</th>\n",
       "      <td>5.875256</td>\n",
       "      <td>-2.953725</td>\n",
       "      <td>-0.157313</td>\n",
       "      <td>4.861342</td>\n",
       "      <td>-2.864408</td>\n",
       "      <td>-7.014639</td>\n",
       "      <td>1.084482</td>\n",
       "      <td>-1.975462</td>\n",
       "      <td>-5.647605</td>\n",
       "      <td>2.928938</td>\n",
       "    </tr>\n",
       "    <tr>\n",
       "      <th>20596</th>\n",
       "      <td>8.004185</td>\n",
       "      <td>-5.731449</td>\n",
       "      <td>0.148440</td>\n",
       "      <td>4.388661</td>\n",
       "      <td>1.923964</td>\n",
       "      <td>-5.250661</td>\n",
       "      <td>0.744582</td>\n",
       "      <td>0.810351</td>\n",
       "      <td>-1.340015</td>\n",
       "      <td>1.221896</td>\n",
       "    </tr>\n",
       "    <tr>\n",
       "      <th>513182</th>\n",
       "      <td>2.098857</td>\n",
       "      <td>-1.814785</td>\n",
       "      <td>-0.349151</td>\n",
       "      <td>1.175228</td>\n",
       "      <td>-2.474667</td>\n",
       "      <td>-5.216595</td>\n",
       "      <td>-1.833777</td>\n",
       "      <td>-2.219950</td>\n",
       "      <td>-1.949201</td>\n",
       "      <td>-0.446770</td>\n",
       "    </tr>\n",
       "    <tr>\n",
       "      <th>951408</th>\n",
       "      <td>-0.385789</td>\n",
       "      <td>-5.770428</td>\n",
       "      <td>3.374034</td>\n",
       "      <td>0.366226</td>\n",
       "      <td>-4.248439</td>\n",
       "      <td>-5.418933</td>\n",
       "      <td>-1.710399</td>\n",
       "      <td>-0.566738</td>\n",
       "      <td>-7.999661</td>\n",
       "      <td>-0.008357</td>\n",
       "    </tr>\n",
       "    <tr>\n",
       "      <th>632599</th>\n",
       "      <td>-0.172930</td>\n",
       "      <td>-4.839267</td>\n",
       "      <td>3.175453</td>\n",
       "      <td>-0.513777</td>\n",
       "      <td>-3.427917</td>\n",
       "      <td>-6.330953</td>\n",
       "      <td>-1.083603</td>\n",
       "      <td>0.601908</td>\n",
       "      <td>-6.206107</td>\n",
       "      <td>0.636926</td>\n",
       "    </tr>\n",
       "  </tbody>\n",
       "</table>\n",
       "</div>"
      ],
      "text/plain": [
       "               0         1         2         3         4         5         6  \\\n",
       "id                                                                             \n",
       "354189  5.875256 -2.953725 -0.157313  4.861342 -2.864408 -7.014639  1.084482   \n",
       "20596   8.004185 -5.731449  0.148440  4.388661  1.923964 -5.250661  0.744582   \n",
       "513182  2.098857 -1.814785 -0.349151  1.175228 -2.474667 -5.216595 -1.833777   \n",
       "951408 -0.385789 -5.770428  3.374034  0.366226 -4.248439 -5.418933 -1.710399   \n",
       "632599 -0.172930 -4.839267  3.175453 -0.513777 -3.427917 -6.330953 -1.083603   \n",
       "\n",
       "               7         8         9  \n",
       "id                                    \n",
       "354189 -1.975462 -5.647605  2.928938  \n",
       "20596   0.810351 -1.340015  1.221896  \n",
       "513182 -2.219950 -1.949201 -0.446770  \n",
       "951408 -0.566738 -7.999661 -0.008357  \n",
       "632599  0.601908 -6.206107  0.636926  "
      ]
     },
     "execution_count": 58,
     "metadata": {},
     "output_type": "execute_result"
    }
   ],
   "source": [
    "vec = [vectorize(sentence) for sentence in sentences]\n",
    "df[list(range(vector_size))] = np.array(vec)\n",
    "df[list(range(vector_size))].head()\n",
    "\n",
    "DF = df[range(vector_size)]\n",
    "DF.head()"
   ]
  },
  {
   "cell_type": "markdown",
   "id": "whole-consortium",
   "metadata": {},
   "source": [
    "#### to preserve words embeding properties i am not normalizing text features. I will only scale time features"
   ]
  },
  {
   "cell_type": "code",
   "execution_count": 59,
   "id": "broken-establishment",
   "metadata": {},
   "outputs": [],
   "source": [
    "# DF = df[['hour','day_of_week']+list(range(vector_size))]\n",
    "# DF[['hour','day_of_week']] = (DF[['hour','day_of_week']]-DF[['hour','day_of_week']].mean(0))/DF[['hour','day_of_week']].std(0)"
   ]
  },
  {
   "cell_type": "code",
   "execution_count": 60,
   "id": "treated-longer",
   "metadata": {},
   "outputs": [
    {
     "name": "stderr",
     "output_type": "stream",
     "text": [
      "c:\\users\\annas.desktop-4oc2lis\\appdata\\local\\programs\\python\\python39\\lib\\site-packages\\pandas\\core\\frame.py:5233: SettingWithCopyWarning: \n",
      "A value is trying to be set on a copy of a slice from a DataFrame\n",
      "\n",
      "See the caveats in the documentation: https://pandas.pydata.org/pandas-docs/stable/user_guide/indexing.html#returning-a-view-versus-a-copy\n",
      "  return super().replace(\n"
     ]
    }
   ],
   "source": [
    "DF.isna().any().any()\n",
    "DF.replace([np.inf, -np.inf], 100, inplace=True)"
   ]
  },
  {
   "cell_type": "code",
   "execution_count": 61,
   "id": "statewide-westminster",
   "metadata": {},
   "outputs": [],
   "source": [
    "# DF = pd.concat((DF, df[dumies.columns].fillna(0)), 1)"
   ]
  },
  {
   "cell_type": "code",
   "execution_count": 62,
   "id": "passive-island",
   "metadata": {},
   "outputs": [
    {
     "data": {
      "text/html": [
       "<div>\n",
       "<style scoped>\n",
       "    .dataframe tbody tr th:only-of-type {\n",
       "        vertical-align: middle;\n",
       "    }\n",
       "\n",
       "    .dataframe tbody tr th {\n",
       "        vertical-align: top;\n",
       "    }\n",
       "\n",
       "    .dataframe thead th {\n",
       "        text-align: right;\n",
       "    }\n",
       "</style>\n",
       "<table border=\"1\" class=\"dataframe\">\n",
       "  <thead>\n",
       "    <tr style=\"text-align: right;\">\n",
       "      <th></th>\n",
       "      <th>0</th>\n",
       "      <th>1</th>\n",
       "      <th>2</th>\n",
       "      <th>3</th>\n",
       "      <th>4</th>\n",
       "      <th>5</th>\n",
       "      <th>6</th>\n",
       "      <th>7</th>\n",
       "      <th>8</th>\n",
       "      <th>9</th>\n",
       "    </tr>\n",
       "    <tr>\n",
       "      <th>id</th>\n",
       "      <th></th>\n",
       "      <th></th>\n",
       "      <th></th>\n",
       "      <th></th>\n",
       "      <th></th>\n",
       "      <th></th>\n",
       "      <th></th>\n",
       "      <th></th>\n",
       "      <th></th>\n",
       "      <th></th>\n",
       "    </tr>\n",
       "  </thead>\n",
       "  <tbody>\n",
       "    <tr>\n",
       "      <th>354189</th>\n",
       "      <td>5.875256</td>\n",
       "      <td>-2.953725</td>\n",
       "      <td>-0.157313</td>\n",
       "      <td>4.861342</td>\n",
       "      <td>-2.864408</td>\n",
       "      <td>-7.014639</td>\n",
       "      <td>1.084482</td>\n",
       "      <td>-1.975462</td>\n",
       "      <td>-5.647605</td>\n",
       "      <td>2.928938</td>\n",
       "    </tr>\n",
       "    <tr>\n",
       "      <th>20596</th>\n",
       "      <td>8.004185</td>\n",
       "      <td>-5.731449</td>\n",
       "      <td>0.148440</td>\n",
       "      <td>4.388661</td>\n",
       "      <td>1.923964</td>\n",
       "      <td>-5.250661</td>\n",
       "      <td>0.744582</td>\n",
       "      <td>0.810351</td>\n",
       "      <td>-1.340015</td>\n",
       "      <td>1.221896</td>\n",
       "    </tr>\n",
       "    <tr>\n",
       "      <th>513182</th>\n",
       "      <td>2.098857</td>\n",
       "      <td>-1.814785</td>\n",
       "      <td>-0.349151</td>\n",
       "      <td>1.175228</td>\n",
       "      <td>-2.474667</td>\n",
       "      <td>-5.216595</td>\n",
       "      <td>-1.833777</td>\n",
       "      <td>-2.219950</td>\n",
       "      <td>-1.949201</td>\n",
       "      <td>-0.446770</td>\n",
       "    </tr>\n",
       "    <tr>\n",
       "      <th>951408</th>\n",
       "      <td>-0.385789</td>\n",
       "      <td>-5.770428</td>\n",
       "      <td>3.374034</td>\n",
       "      <td>0.366226</td>\n",
       "      <td>-4.248439</td>\n",
       "      <td>-5.418933</td>\n",
       "      <td>-1.710399</td>\n",
       "      <td>-0.566738</td>\n",
       "      <td>-7.999661</td>\n",
       "      <td>-0.008357</td>\n",
       "    </tr>\n",
       "    <tr>\n",
       "      <th>632599</th>\n",
       "      <td>-0.172930</td>\n",
       "      <td>-4.839267</td>\n",
       "      <td>3.175453</td>\n",
       "      <td>-0.513777</td>\n",
       "      <td>-3.427917</td>\n",
       "      <td>-6.330953</td>\n",
       "      <td>-1.083603</td>\n",
       "      <td>0.601908</td>\n",
       "      <td>-6.206107</td>\n",
       "      <td>0.636926</td>\n",
       "    </tr>\n",
       "  </tbody>\n",
       "</table>\n",
       "</div>"
      ],
      "text/plain": [
       "               0         1         2         3         4         5         6  \\\n",
       "id                                                                             \n",
       "354189  5.875256 -2.953725 -0.157313  4.861342 -2.864408 -7.014639  1.084482   \n",
       "20596   8.004185 -5.731449  0.148440  4.388661  1.923964 -5.250661  0.744582   \n",
       "513182  2.098857 -1.814785 -0.349151  1.175228 -2.474667 -5.216595 -1.833777   \n",
       "951408 -0.385789 -5.770428  3.374034  0.366226 -4.248439 -5.418933 -1.710399   \n",
       "632599 -0.172930 -4.839267  3.175453 -0.513777 -3.427917 -6.330953 -1.083603   \n",
       "\n",
       "               7         8         9  \n",
       "id                                    \n",
       "354189 -1.975462 -5.647605  2.928938  \n",
       "20596   0.810351 -1.340015  1.221896  \n",
       "513182 -2.219950 -1.949201 -0.446770  \n",
       "951408 -0.566738 -7.999661 -0.008357  \n",
       "632599  0.601908 -6.206107  0.636926  "
      ]
     },
     "execution_count": 62,
     "metadata": {},
     "output_type": "execute_result"
    }
   ],
   "source": [
    "DF.head()"
   ]
  },
  {
   "cell_type": "code",
   "execution_count": 63,
   "id": "competent-settle",
   "metadata": {},
   "outputs": [
    {
     "data": {
      "text/html": [
       "<div>\n",
       "<style scoped>\n",
       "    .dataframe tbody tr th:only-of-type {\n",
       "        vertical-align: middle;\n",
       "    }\n",
       "\n",
       "    .dataframe tbody tr th {\n",
       "        vertical-align: top;\n",
       "    }\n",
       "\n",
       "    .dataframe thead th {\n",
       "        text-align: right;\n",
       "    }\n",
       "</style>\n",
       "<table border=\"1\" class=\"dataframe\">\n",
       "  <thead>\n",
       "    <tr style=\"text-align: right;\">\n",
       "      <th></th>\n",
       "      <th>0</th>\n",
       "      <th>1</th>\n",
       "      <th>2</th>\n",
       "      <th>3</th>\n",
       "      <th>4</th>\n",
       "      <th>5</th>\n",
       "      <th>6</th>\n",
       "      <th>7</th>\n",
       "      <th>8</th>\n",
       "      <th>9</th>\n",
       "    </tr>\n",
       "  </thead>\n",
       "  <tbody>\n",
       "    <tr>\n",
       "      <th>count</th>\n",
       "      <td>9998.000000</td>\n",
       "      <td>9998.000000</td>\n",
       "      <td>9998.000000</td>\n",
       "      <td>9998.000000</td>\n",
       "      <td>9998.000000</td>\n",
       "      <td>9998.000000</td>\n",
       "      <td>9998.000000</td>\n",
       "      <td>9998.000000</td>\n",
       "      <td>9998.000000</td>\n",
       "      <td>9998.000000</td>\n",
       "    </tr>\n",
       "    <tr>\n",
       "      <th>mean</th>\n",
       "      <td>3.799874</td>\n",
       "      <td>-4.775963</td>\n",
       "      <td>2.206325</td>\n",
       "      <td>3.628365</td>\n",
       "      <td>-5.237133</td>\n",
       "      <td>-6.491891</td>\n",
       "      <td>0.982106</td>\n",
       "      <td>1.486671</td>\n",
       "      <td>-2.579861</td>\n",
       "      <td>-1.545231</td>\n",
       "    </tr>\n",
       "    <tr>\n",
       "      <th>std</th>\n",
       "      <td>5.782589</td>\n",
       "      <td>6.193886</td>\n",
       "      <td>7.203044</td>\n",
       "      <td>5.790252</td>\n",
       "      <td>5.057569</td>\n",
       "      <td>4.723240</td>\n",
       "      <td>3.193158</td>\n",
       "      <td>3.574687</td>\n",
       "      <td>5.934120</td>\n",
       "      <td>4.648025</td>\n",
       "    </tr>\n",
       "    <tr>\n",
       "      <th>min</th>\n",
       "      <td>-26.498423</td>\n",
       "      <td>-57.124989</td>\n",
       "      <td>-12.250479</td>\n",
       "      <td>-6.447156</td>\n",
       "      <td>-74.482758</td>\n",
       "      <td>-80.101913</td>\n",
       "      <td>-12.441441</td>\n",
       "      <td>-10.044368</td>\n",
       "      <td>-39.745102</td>\n",
       "      <td>-35.644966</td>\n",
       "    </tr>\n",
       "    <tr>\n",
       "      <th>25%</th>\n",
       "      <td>1.732412</td>\n",
       "      <td>-5.501749</td>\n",
       "      <td>0.144195</td>\n",
       "      <td>0.317116</td>\n",
       "      <td>-6.543205</td>\n",
       "      <td>-7.556496</td>\n",
       "      <td>-0.896284</td>\n",
       "      <td>-0.583321</td>\n",
       "      <td>-4.442501</td>\n",
       "      <td>-2.248040</td>\n",
       "    </tr>\n",
       "    <tr>\n",
       "      <th>50%</th>\n",
       "      <td>3.163549</td>\n",
       "      <td>-3.339617</td>\n",
       "      <td>1.171203</td>\n",
       "      <td>2.108954</td>\n",
       "      <td>-3.948444</td>\n",
       "      <td>-5.307704</td>\n",
       "      <td>0.636072</td>\n",
       "      <td>0.744076</td>\n",
       "      <td>-1.672058</td>\n",
       "      <td>-0.738152</td>\n",
       "    </tr>\n",
       "    <tr>\n",
       "      <th>75%</th>\n",
       "      <td>5.390159</td>\n",
       "      <td>-1.576830</td>\n",
       "      <td>2.411298</td>\n",
       "      <td>4.791339</td>\n",
       "      <td>-2.499577</td>\n",
       "      <td>-3.723608</td>\n",
       "      <td>2.490702</td>\n",
       "      <td>2.863819</td>\n",
       "      <td>-0.093612</td>\n",
       "      <td>0.031427</td>\n",
       "    </tr>\n",
       "    <tr>\n",
       "      <th>max</th>\n",
       "      <td>75.016388</td>\n",
       "      <td>5.626139</td>\n",
       "      <td>52.623112</td>\n",
       "      <td>64.364090</td>\n",
       "      <td>5.051571</td>\n",
       "      <td>0.523592</td>\n",
       "      <td>15.816836</td>\n",
       "      <td>37.547562</td>\n",
       "      <td>19.219925</td>\n",
       "      <td>12.645151</td>\n",
       "    </tr>\n",
       "  </tbody>\n",
       "</table>\n",
       "</div>"
      ],
      "text/plain": [
       "                 0            1            2            3            4  \\\n",
       "count  9998.000000  9998.000000  9998.000000  9998.000000  9998.000000   \n",
       "mean      3.799874    -4.775963     2.206325     3.628365    -5.237133   \n",
       "std       5.782589     6.193886     7.203044     5.790252     5.057569   \n",
       "min     -26.498423   -57.124989   -12.250479    -6.447156   -74.482758   \n",
       "25%       1.732412    -5.501749     0.144195     0.317116    -6.543205   \n",
       "50%       3.163549    -3.339617     1.171203     2.108954    -3.948444   \n",
       "75%       5.390159    -1.576830     2.411298     4.791339    -2.499577   \n",
       "max      75.016388     5.626139    52.623112    64.364090     5.051571   \n",
       "\n",
       "                 5            6            7            8            9  \n",
       "count  9998.000000  9998.000000  9998.000000  9998.000000  9998.000000  \n",
       "mean     -6.491891     0.982106     1.486671    -2.579861    -1.545231  \n",
       "std       4.723240     3.193158     3.574687     5.934120     4.648025  \n",
       "min     -80.101913   -12.441441   -10.044368   -39.745102   -35.644966  \n",
       "25%      -7.556496    -0.896284    -0.583321    -4.442501    -2.248040  \n",
       "50%      -5.307704     0.636072     0.744076    -1.672058    -0.738152  \n",
       "75%      -3.723608     2.490702     2.863819    -0.093612     0.031427  \n",
       "max       0.523592    15.816836    37.547562    19.219925    12.645151  "
      ]
     },
     "execution_count": 63,
     "metadata": {},
     "output_type": "execute_result"
    }
   ],
   "source": [
    "DF.describe()"
   ]
  },
  {
   "cell_type": "code",
   "execution_count": 64,
   "id": "mysterious-sacramento",
   "metadata": {},
   "outputs": [],
   "source": [
    "pickle.dump(DF, open('DF', 'wb'))"
   ]
  },
  {
   "cell_type": "code",
   "execution_count": null,
   "id": "yellow-workstation",
   "metadata": {},
   "outputs": [],
   "source": []
  },
  {
   "cell_type": "code",
   "execution_count": null,
   "id": "demographic-pioneer",
   "metadata": {},
   "outputs": [],
   "source": []
  },
  {
   "cell_type": "code",
   "execution_count": null,
   "id": "multiple-colonial",
   "metadata": {},
   "outputs": [],
   "source": []
  },
  {
   "cell_type": "code",
   "execution_count": null,
   "id": "rolled-slovak",
   "metadata": {},
   "outputs": [],
   "source": []
  },
  {
   "cell_type": "code",
   "execution_count": null,
   "id": "cordless-coffee",
   "metadata": {},
   "outputs": [],
   "source": []
  },
  {
   "cell_type": "code",
   "execution_count": null,
   "id": "similar-plaintiff",
   "metadata": {},
   "outputs": [],
   "source": []
  },
  {
   "cell_type": "code",
   "execution_count": null,
   "id": "alternate-advocate",
   "metadata": {},
   "outputs": [],
   "source": []
  },
  {
   "cell_type": "code",
   "execution_count": null,
   "id": "infectious-outdoors",
   "metadata": {},
   "outputs": [],
   "source": []
  },
  {
   "cell_type": "code",
   "execution_count": null,
   "id": "compact-mandate",
   "metadata": {},
   "outputs": [],
   "source": []
  },
  {
   "cell_type": "code",
   "execution_count": null,
   "id": "advanced-shaft",
   "metadata": {},
   "outputs": [],
   "source": []
  },
  {
   "cell_type": "code",
   "execution_count": null,
   "id": "discrete-looking",
   "metadata": {},
   "outputs": [],
   "source": []
  },
  {
   "cell_type": "code",
   "execution_count": null,
   "id": "considerable-above",
   "metadata": {},
   "outputs": [],
   "source": []
  },
  {
   "cell_type": "code",
   "execution_count": null,
   "id": "willing-emperor",
   "metadata": {},
   "outputs": [],
   "source": []
  },
  {
   "cell_type": "code",
   "execution_count": null,
   "id": "encouraging-corrections",
   "metadata": {},
   "outputs": [],
   "source": []
  },
  {
   "cell_type": "code",
   "execution_count": null,
   "id": "duplicate-weekly",
   "metadata": {},
   "outputs": [],
   "source": []
  },
  {
   "cell_type": "code",
   "execution_count": null,
   "id": "dense-destiny",
   "metadata": {},
   "outputs": [],
   "source": []
  },
  {
   "cell_type": "code",
   "execution_count": null,
   "id": "guided-birthday",
   "metadata": {},
   "outputs": [],
   "source": []
  },
  {
   "cell_type": "code",
   "execution_count": null,
   "id": "moral-bosnia",
   "metadata": {},
   "outputs": [],
   "source": []
  },
  {
   "cell_type": "code",
   "execution_count": null,
   "id": "following-ultimate",
   "metadata": {},
   "outputs": [],
   "source": []
  },
  {
   "cell_type": "code",
   "execution_count": null,
   "id": "precise-worth",
   "metadata": {},
   "outputs": [],
   "source": []
  },
  {
   "cell_type": "code",
   "execution_count": null,
   "id": "united-abuse",
   "metadata": {},
   "outputs": [],
   "source": []
  },
  {
   "cell_type": "code",
   "execution_count": null,
   "id": "spiritual-gnome",
   "metadata": {},
   "outputs": [],
   "source": []
  },
  {
   "cell_type": "code",
   "execution_count": null,
   "id": "finnish-doubt",
   "metadata": {},
   "outputs": [],
   "source": []
  },
  {
   "cell_type": "code",
   "execution_count": null,
   "id": "diagnostic-flavor",
   "metadata": {},
   "outputs": [],
   "source": []
  },
  {
   "cell_type": "code",
   "execution_count": null,
   "id": "abstract-ecuador",
   "metadata": {},
   "outputs": [],
   "source": []
  },
  {
   "cell_type": "code",
   "execution_count": null,
   "id": "nervous-somewhere",
   "metadata": {},
   "outputs": [],
   "source": []
  },
  {
   "cell_type": "code",
   "execution_count": null,
   "id": "painful-recognition",
   "metadata": {},
   "outputs": [],
   "source": []
  },
  {
   "cell_type": "code",
   "execution_count": null,
   "id": "excellent-holiday",
   "metadata": {},
   "outputs": [],
   "source": []
  }
 ],
 "metadata": {
  "kernelspec": {
   "display_name": "Python 3",
   "language": "python",
   "name": "python3"
  },
  "language_info": {
   "codemirror_mode": {
    "name": "ipython",
    "version": 3
   },
   "file_extension": ".py",
   "mimetype": "text/x-python",
   "name": "python",
   "nbconvert_exporter": "python",
   "pygments_lexer": "ipython3",
   "version": "3.9.1"
  }
 },
 "nbformat": 4,
 "nbformat_minor": 5
}
